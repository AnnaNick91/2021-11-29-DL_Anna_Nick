{
 "cells": [
  {
   "cell_type": "code",
   "execution_count": 1,
   "id": "6dedfc2f",
   "metadata": {},
   "outputs": [],
   "source": [
    "#1. Wie viele Senioren und Kinder sind Kunden der San Francisco Public Library?\n",
    "#2. Wie viele Nutzer möchten per Mail informiert werden?\n",
    "#3. Wie viele Ausleihen werden im Mittel pro Altersgruppe und pro Jahr getätigt? Ist die Streuung zwischen den Gruppen gleich?\n",
    "\n",
    "#Mit pandas berechnen und mit seaborn darstellen."
   ]
  },
  {
   "cell_type": "code",
   "execution_count": 3,
   "id": "20c562c9",
   "metadata": {},
   "outputs": [],
   "source": [
    "import pandas as pd\n",
    "import seaborn as sns\n",
    "import numpy as np\n",
    "import matplotlib.pyplot as plt\n",
    "\n",
    "df = pd.read_csv(\"../data/Library_Usage.csv\")"
   ]
  },
  {
   "cell_type": "code",
   "execution_count": 4,
   "id": "0cfbe78d",
   "metadata": {},
   "outputs": [],
   "source": [
    "sns.set()"
   ]
  },
  {
   "cell_type": "code",
   "execution_count": 6,
   "id": "296f529c",
   "metadata": {},
   "outputs": [
    {
     "data": {
      "text/html": [
       "<div>\n",
       "<style scoped>\n",
       "    .dataframe tbody tr th:only-of-type {\n",
       "        vertical-align: middle;\n",
       "    }\n",
       "\n",
       "    .dataframe tbody tr th {\n",
       "        vertical-align: top;\n",
       "    }\n",
       "\n",
       "    .dataframe thead th {\n",
       "        text-align: right;\n",
       "    }\n",
       "</style>\n",
       "<table border=\"1\" class=\"dataframe\">\n",
       "  <thead>\n",
       "    <tr style=\"text-align: right;\">\n",
       "      <th></th>\n",
       "      <th>Patron Type Code</th>\n",
       "      <th>Patron Type Definition</th>\n",
       "      <th>Total Checkouts</th>\n",
       "      <th>Total Renewals</th>\n",
       "      <th>Age Range</th>\n",
       "      <th>Home Library Code</th>\n",
       "      <th>Home Library Definition</th>\n",
       "      <th>Circulation Active Month</th>\n",
       "      <th>Circulation Active Year</th>\n",
       "      <th>Notice Preference Code</th>\n",
       "      <th>Notice Preference Definition</th>\n",
       "      <th>Provided Email Address</th>\n",
       "      <th>Year Patron Registered</th>\n",
       "      <th>Outside of County</th>\n",
       "      <th>Supervisor District</th>\n",
       "    </tr>\n",
       "  </thead>\n",
       "  <tbody>\n",
       "    <tr>\n",
       "      <th>0</th>\n",
       "      <td>0</td>\n",
       "      <td>ADULT</td>\n",
       "      <td>0</td>\n",
       "      <td>0</td>\n",
       "      <td>20 to 24 years</td>\n",
       "      <td>P1</td>\n",
       "      <td>Park</td>\n",
       "      <td>None</td>\n",
       "      <td>None</td>\n",
       "      <td>z</td>\n",
       "      <td>email</td>\n",
       "      <td>True</td>\n",
       "      <td>2014</td>\n",
       "      <td>False</td>\n",
       "      <td>5.0</td>\n",
       "    </tr>\n",
       "    <tr>\n",
       "      <th>1</th>\n",
       "      <td>0</td>\n",
       "      <td>ADULT</td>\n",
       "      <td>31</td>\n",
       "      <td>22</td>\n",
       "      <td>25 to 34 years</td>\n",
       "      <td>S7</td>\n",
       "      <td>Sunset</td>\n",
       "      <td>April</td>\n",
       "      <td>2016</td>\n",
       "      <td>z</td>\n",
       "      <td>email</td>\n",
       "      <td>True</td>\n",
       "      <td>2010</td>\n",
       "      <td>False</td>\n",
       "      <td>4.0</td>\n",
       "    </tr>\n",
       "    <tr>\n",
       "      <th>2</th>\n",
       "      <td>0</td>\n",
       "      <td>ADULT</td>\n",
       "      <td>0</td>\n",
       "      <td>0</td>\n",
       "      <td>45 to 54 years</td>\n",
       "      <td>P1</td>\n",
       "      <td>Park</td>\n",
       "      <td>None</td>\n",
       "      <td>None</td>\n",
       "      <td>a</td>\n",
       "      <td>print</td>\n",
       "      <td>False</td>\n",
       "      <td>2016</td>\n",
       "      <td>True</td>\n",
       "      <td>NaN</td>\n",
       "    </tr>\n",
       "    <tr>\n",
       "      <th>3</th>\n",
       "      <td>0</td>\n",
       "      <td>ADULT</td>\n",
       "      <td>0</td>\n",
       "      <td>0</td>\n",
       "      <td>25 to 34 years</td>\n",
       "      <td>X</td>\n",
       "      <td>Main Library</td>\n",
       "      <td>None</td>\n",
       "      <td>None</td>\n",
       "      <td>z</td>\n",
       "      <td>email</td>\n",
       "      <td>True</td>\n",
       "      <td>2015</td>\n",
       "      <td>False</td>\n",
       "      <td>3.0</td>\n",
       "    </tr>\n",
       "    <tr>\n",
       "      <th>4</th>\n",
       "      <td>0</td>\n",
       "      <td>ADULT</td>\n",
       "      <td>126</td>\n",
       "      <td>11</td>\n",
       "      <td>45 to 54 years</td>\n",
       "      <td>M2</td>\n",
       "      <td>Marina</td>\n",
       "      <td>January</td>\n",
       "      <td>2016</td>\n",
       "      <td>z</td>\n",
       "      <td>email</td>\n",
       "      <td>True</td>\n",
       "      <td>2003</td>\n",
       "      <td>False</td>\n",
       "      <td>2.0</td>\n",
       "    </tr>\n",
       "  </tbody>\n",
       "</table>\n",
       "</div>"
      ],
      "text/plain": [
       "   Patron Type Code Patron Type Definition  Total Checkouts  Total Renewals  \\\n",
       "0                 0                  ADULT                0               0   \n",
       "1                 0                  ADULT               31              22   \n",
       "2                 0                  ADULT                0               0   \n",
       "3                 0                  ADULT                0               0   \n",
       "4                 0                  ADULT              126              11   \n",
       "\n",
       "        Age Range Home Library Code Home Library Definition  \\\n",
       "0  20 to 24 years                P1                    Park   \n",
       "1  25 to 34 years                S7                  Sunset   \n",
       "2  45 to 54 years                P1                    Park   \n",
       "3  25 to 34 years                 X            Main Library   \n",
       "4  45 to 54 years                M2                  Marina   \n",
       "\n",
       "  Circulation Active Month Circulation Active Year Notice Preference Code  \\\n",
       "0                     None                    None                      z   \n",
       "1                    April                    2016                      z   \n",
       "2                     None                    None                      a   \n",
       "3                     None                    None                      z   \n",
       "4                  January                    2016                      z   \n",
       "\n",
       "  Notice Preference Definition  Provided Email Address  \\\n",
       "0                        email                    True   \n",
       "1                        email                    True   \n",
       "2                        print                   False   \n",
       "3                        email                    True   \n",
       "4                        email                    True   \n",
       "\n",
       "   Year Patron Registered  Outside of County  Supervisor District  \n",
       "0                    2014              False                  5.0  \n",
       "1                    2010              False                  4.0  \n",
       "2                    2016               True                  NaN  \n",
       "3                    2015              False                  3.0  \n",
       "4                    2003              False                  2.0  "
      ]
     },
     "execution_count": 6,
     "metadata": {},
     "output_type": "execute_result"
    }
   ],
   "source": [
    "df.head()"
   ]
  },
  {
   "cell_type": "code",
   "execution_count": 8,
   "id": "df03a755",
   "metadata": {},
   "outputs": [
    {
     "data": {
      "text/plain": [
       "array(['ADULT', 'SENIOR', 'WELCOME', 'TEACHER CARD', 'JUVENILE',\n",
       "       'YOUNG ADULT', 'STAFF', 'DIGITAL ACCESS CARD', 'SPECIAL',\n",
       "       'AT USER ADULT', 'RETIRED STAFF', 'VISITOR', 'BOOKS BY MAIL',\n",
       "       'AT USER SENIOR', 'FRIENDS FOR LIFE', 'AT USER WELCOME',\n",
       "       'AT USER TEEN', 'AT USER JUVENILE'], dtype=object)"
      ]
     },
     "execution_count": 8,
     "metadata": {},
     "output_type": "execute_result"
    }
   ],
   "source": [
    "df['Patron Type Definition'].unique()"
   ]
  },
  {
   "cell_type": "code",
   "execution_count": 14,
   "id": "e58d18c0",
   "metadata": {},
   "outputs": [],
   "source": [
    "#Frage 1: Wie viele Senioren und Kinder sind Kunden der San Francisco Public Library?\n",
    "\n",
    "juvenile = (df['Patron Type Definition'] == 'JUVENILE').sum()"
   ]
  },
  {
   "cell_type": "code",
   "execution_count": 15,
   "id": "ebbfe768",
   "metadata": {},
   "outputs": [
    {
     "data": {
      "text/plain": [
       "59208"
      ]
     },
     "execution_count": 15,
     "metadata": {},
     "output_type": "execute_result"
    }
   ],
   "source": [
    "juvenile"
   ]
  },
  {
   "cell_type": "code",
   "execution_count": 16,
   "id": "50eae516",
   "metadata": {},
   "outputs": [],
   "source": [
    "senior = (df['Patron Type Definition'] == 'SENIOR').sum()"
   ]
  },
  {
   "cell_type": "code",
   "execution_count": 17,
   "id": "e1398062",
   "metadata": {},
   "outputs": [
    {
     "data": {
      "text/plain": [
       "41619"
      ]
     },
     "execution_count": 17,
     "metadata": {},
     "output_type": "execute_result"
    }
   ],
   "source": [
    "senior"
   ]
  },
  {
   "cell_type": "code",
   "execution_count": 30,
   "id": "a020384d",
   "metadata": {},
   "outputs": [
    {
     "data": {
      "text/plain": [
       "<seaborn.axisgrid.FacetGrid at 0x7f4b46832b20>"
      ]
     },
     "execution_count": 30,
     "metadata": {},
     "output_type": "execute_result"
    },
    {
     "data": {
      "image/png": "[encoded data removed]",
      "text/plain": [
       "<Figure size 360x360 with 1 Axes>"
      ]
     },
     "metadata": {},
     "output_type": "display_data"
    }
   ],
   "source": [
    "sns.catplot(y='Patron Type Definition',\n",
    "            data=df, kind='count', color=\"green\")"
   ]
  },
  {
   "cell_type": "code",
   "execution_count": 31,
   "id": "dc03a70f",
   "metadata": {},
   "outputs": [
    {
     "data": {
      "image/png": "[encoded data removed]",
      "text/plain": [
       "<Figure size 432x288 with 1 Axes>"
      ]
     },
     "metadata": {},
     "output_type": "display_data"
    }
   ],
   "source": [
    "x = np.array([\"JUVENILE\", \"SENIOR\"])\n",
    "y = np.array([59208, 41619])\n",
    "\n",
    "plt.bar(x,y)\n",
    "plt.show()"
   ]
  },
  {
   "cell_type": "code",
   "execution_count": null,
   "id": "7a7d0f53",
   "metadata": {},
   "outputs": [],
   "source": [
    "#Antwort Frage 1: Wenn man Kinder mit der Kundenkennung \"Juvenile\" und Senioren mit der Kennung \"Senior\" betrachtet, ergibt sich, dass es 59208 registrierte Kinder und 41619 registrierte Senioren gibt."
   ]
  },
  {
   "cell_type": "code",
   "execution_count": 33,
   "id": "84807a45",
   "metadata": {},
   "outputs": [
    {
     "data": {
      "text/plain": [
       "323937"
      ]
     },
     "execution_count": 33,
     "metadata": {},
     "output_type": "execute_result"
    }
   ],
   "source": [
    "#Frage 2: Wie viele Nutzer möchten per Mail informiert werden?\n",
    "\n",
    "email = (df['Notice Preference Definition'] == 'email').sum()\n",
    "email"
   ]
  },
  {
   "cell_type": "code",
   "execution_count": null,
   "id": "089e8225",
   "metadata": {},
   "outputs": [],
   "source": [
    "#Antwort Frage 2: 323937 Kunden möchten per email benachrichtigt werden. "
   ]
  },
  {
   "cell_type": "code",
   "execution_count": 34,
   "id": "f032f8e8",
   "metadata": {},
   "outputs": [],
   "source": [
    "#Frage 3: Wie viele Ausleihen werden im Mittel pro Altersgruppe und pro Jahr getätigt? Ist die Streuung zwischen den Gruppen gleich?\n",
    "\n",
    "#Total Checkouts  und Age Range sind zu betrachten\n",
    "\n",
    "#neuen df definieren, in dem die durchschnittlichen Ausleihen per Jahr beschrieben werden:\n",
    "\n",
    "df['Circulation Active Year'] = pd.to_numeric(df['Circulation Active Year'], errors='coerce')\n",
    "df['Membership Duration Years'] = (df['Circulation Active Year'] - df['Year Patron Registered'])+1 \n",
    "# hier werden der Einfachheit ganze Jahre angenommen\n",
    "df[\"Average Checkouts per Year\"] =(df['Total Checkouts']/df['Membership Duration Years'])\n"
   ]
  },
  {
   "cell_type": "code",
   "execution_count": 35,
   "id": "bf397d34",
   "metadata": {},
   "outputs": [
    {
     "data": {
      "text/plain": [
       "array(['20 to 24 years', '25 to 34 years', '45 to 54 years',\n",
       "       '65 to 74 years', '60 to 64 years', '35 to 44 years', nan,\n",
       "       '55 to 59 years', '10 to 19 years', '0 to 9 years',\n",
       "       '75 years and over'], dtype=object)"
      ]
     },
     "execution_count": 35,
     "metadata": {},
     "output_type": "execute_result"
    }
   ],
   "source": [
    "#Welche Altersgruppen gibt es:\n",
    "\n",
    "df['Age Range'].unique()"
   ]
  },
  {
   "cell_type": "code",
   "execution_count": 44,
   "id": "cefdee1e",
   "metadata": {},
   "outputs": [
    {
     "data": {
      "text/plain": [
       "<AxesSubplot:xlabel='Age Range', ylabel='Average Checkouts per Year'>"
      ]
     },
     "execution_count": 44,
     "metadata": {},
     "output_type": "execute_result"
    },
    {
     "data": {
      "image/png": "[encoded data removed]",
      "text/plain": [
       "<Figure size 1152x432 with 1 Axes>"
      ]
     },
     "metadata": {},
     "output_type": "display_data"
    }
   ],
   "source": [
    "#Anzeige der durchschnittlichen Ausleihen pro Altersklasse:\n",
    "\n",
    "plt.figure(figsize=(16, 6))\n",
    "sns.barplot(y = 'Average Checkouts per Year', x = 'Age Range', data=df)"
   ]
  },
  {
   "cell_type": "code",
   "execution_count": 45,
   "id": "24f25464",
   "metadata": {},
   "outputs": [
    {
     "data": {
      "text/html": [
       "<div>\n",
       "<style scoped>\n",
       "    .dataframe tbody tr th:only-of-type {\n",
       "        vertical-align: middle;\n",
       "    }\n",
       "\n",
       "    .dataframe tbody tr th {\n",
       "        vertical-align: top;\n",
       "    }\n",
       "\n",
       "    .dataframe thead th {\n",
       "        text-align: right;\n",
       "    }\n",
       "</style>\n",
       "<table border=\"1\" class=\"dataframe\">\n",
       "  <thead>\n",
       "    <tr style=\"text-align: right;\">\n",
       "      <th>Average Checkouts per Year</th>\n",
       "      <th>0.0</th>\n",
       "      <th>0.07142857142857142</th>\n",
       "      <th>0.07692307692307693</th>\n",
       "      <th>0.08333333333333333</th>\n",
       "      <th>0.09090909090909091</th>\n",
       "      <th>0.1</th>\n",
       "      <th>0.1111111111111111</th>\n",
       "      <th>0.125</th>\n",
       "      <th>0.14285714285714285</th>\n",
       "      <th>0.15384615384615385</th>\n",
       "      <th>...</th>\n",
       "      <th>1307.0</th>\n",
       "      <th>1318.3636363636363</th>\n",
       "      <th>1437.75</th>\n",
       "      <th>1533.0833333333333</th>\n",
       "      <th>1544.142857142857</th>\n",
       "      <th>1720.9285714285713</th>\n",
       "      <th>1868.0</th>\n",
       "      <th>2293.0</th>\n",
       "      <th>2564.785714285714</th>\n",
       "      <th>All</th>\n",
       "    </tr>\n",
       "    <tr>\n",
       "      <th>Age Range</th>\n",
       "      <th></th>\n",
       "      <th></th>\n",
       "      <th></th>\n",
       "      <th></th>\n",
       "      <th></th>\n",
       "      <th></th>\n",
       "      <th></th>\n",
       "      <th></th>\n",
       "      <th></th>\n",
       "      <th></th>\n",
       "      <th></th>\n",
       "      <th></th>\n",
       "      <th></th>\n",
       "      <th></th>\n",
       "      <th></th>\n",
       "      <th></th>\n",
       "      <th></th>\n",
       "      <th></th>\n",
       "      <th></th>\n",
       "      <th></th>\n",
       "      <th></th>\n",
       "    </tr>\n",
       "  </thead>\n",
       "  <tbody>\n",
       "    <tr>\n",
       "      <th>0 to 9 years</th>\n",
       "      <td>98</td>\n",
       "      <td>0</td>\n",
       "      <td>0</td>\n",
       "      <td>0</td>\n",
       "      <td>0</td>\n",
       "      <td>0</td>\n",
       "      <td>0</td>\n",
       "      <td>1</td>\n",
       "      <td>3</td>\n",
       "      <td>0</td>\n",
       "      <td>...</td>\n",
       "      <td>0</td>\n",
       "      <td>0</td>\n",
       "      <td>0</td>\n",
       "      <td>0</td>\n",
       "      <td>0</td>\n",
       "      <td>0</td>\n",
       "      <td>0</td>\n",
       "      <td>0</td>\n",
       "      <td>0</td>\n",
       "      <td>33830</td>\n",
       "    </tr>\n",
       "    <tr>\n",
       "      <th>10 to 19 years</th>\n",
       "      <td>290</td>\n",
       "      <td>0</td>\n",
       "      <td>0</td>\n",
       "      <td>1</td>\n",
       "      <td>0</td>\n",
       "      <td>3</td>\n",
       "      <td>5</td>\n",
       "      <td>7</td>\n",
       "      <td>24</td>\n",
       "      <td>0</td>\n",
       "      <td>...</td>\n",
       "      <td>0</td>\n",
       "      <td>0</td>\n",
       "      <td>0</td>\n",
       "      <td>0</td>\n",
       "      <td>0</td>\n",
       "      <td>0</td>\n",
       "      <td>0</td>\n",
       "      <td>0</td>\n",
       "      <td>0</td>\n",
       "      <td>51835</td>\n",
       "    </tr>\n",
       "    <tr>\n",
       "      <th>20 to 24 years</th>\n",
       "      <td>451</td>\n",
       "      <td>0</td>\n",
       "      <td>1</td>\n",
       "      <td>4</td>\n",
       "      <td>0</td>\n",
       "      <td>2</td>\n",
       "      <td>4</td>\n",
       "      <td>5</td>\n",
       "      <td>11</td>\n",
       "      <td>2</td>\n",
       "      <td>...</td>\n",
       "      <td>0</td>\n",
       "      <td>0</td>\n",
       "      <td>0</td>\n",
       "      <td>0</td>\n",
       "      <td>1</td>\n",
       "      <td>0</td>\n",
       "      <td>0</td>\n",
       "      <td>0</td>\n",
       "      <td>0</td>\n",
       "      <td>23960</td>\n",
       "    </tr>\n",
       "    <tr>\n",
       "      <th>25 to 34 years</th>\n",
       "      <td>1727</td>\n",
       "      <td>0</td>\n",
       "      <td>3</td>\n",
       "      <td>0</td>\n",
       "      <td>5</td>\n",
       "      <td>7</td>\n",
       "      <td>20</td>\n",
       "      <td>27</td>\n",
       "      <td>51</td>\n",
       "      <td>8</td>\n",
       "      <td>...</td>\n",
       "      <td>0</td>\n",
       "      <td>0</td>\n",
       "      <td>0</td>\n",
       "      <td>0</td>\n",
       "      <td>0</td>\n",
       "      <td>0</td>\n",
       "      <td>1</td>\n",
       "      <td>0</td>\n",
       "      <td>0</td>\n",
       "      <td>72590</td>\n",
       "    </tr>\n",
       "    <tr>\n",
       "      <th>35 to 44 years</th>\n",
       "      <td>1043</td>\n",
       "      <td>2</td>\n",
       "      <td>3</td>\n",
       "      <td>5</td>\n",
       "      <td>6</td>\n",
       "      <td>11</td>\n",
       "      <td>18</td>\n",
       "      <td>20</td>\n",
       "      <td>42</td>\n",
       "      <td>6</td>\n",
       "      <td>...</td>\n",
       "      <td>0</td>\n",
       "      <td>0</td>\n",
       "      <td>0</td>\n",
       "      <td>0</td>\n",
       "      <td>0</td>\n",
       "      <td>0</td>\n",
       "      <td>0</td>\n",
       "      <td>0</td>\n",
       "      <td>1</td>\n",
       "      <td>56438</td>\n",
       "    </tr>\n",
       "    <tr>\n",
       "      <th>45 to 54 years</th>\n",
       "      <td>765</td>\n",
       "      <td>3</td>\n",
       "      <td>6</td>\n",
       "      <td>9</td>\n",
       "      <td>9</td>\n",
       "      <td>8</td>\n",
       "      <td>18</td>\n",
       "      <td>33</td>\n",
       "      <td>42</td>\n",
       "      <td>7</td>\n",
       "      <td>...</td>\n",
       "      <td>0</td>\n",
       "      <td>0</td>\n",
       "      <td>0</td>\n",
       "      <td>0</td>\n",
       "      <td>0</td>\n",
       "      <td>1</td>\n",
       "      <td>0</td>\n",
       "      <td>0</td>\n",
       "      <td>0</td>\n",
       "      <td>44663</td>\n",
       "    </tr>\n",
       "    <tr>\n",
       "      <th>55 to 59 years</th>\n",
       "      <td>328</td>\n",
       "      <td>1</td>\n",
       "      <td>6</td>\n",
       "      <td>2</td>\n",
       "      <td>5</td>\n",
       "      <td>5</td>\n",
       "      <td>8</td>\n",
       "      <td>15</td>\n",
       "      <td>20</td>\n",
       "      <td>8</td>\n",
       "      <td>...</td>\n",
       "      <td>0</td>\n",
       "      <td>0</td>\n",
       "      <td>0</td>\n",
       "      <td>0</td>\n",
       "      <td>0</td>\n",
       "      <td>0</td>\n",
       "      <td>0</td>\n",
       "      <td>0</td>\n",
       "      <td>0</td>\n",
       "      <td>17802</td>\n",
       "    </tr>\n",
       "    <tr>\n",
       "      <th>60 to 64 years</th>\n",
       "      <td>319</td>\n",
       "      <td>3</td>\n",
       "      <td>1</td>\n",
       "      <td>1</td>\n",
       "      <td>6</td>\n",
       "      <td>4</td>\n",
       "      <td>3</td>\n",
       "      <td>11</td>\n",
       "      <td>23</td>\n",
       "      <td>4</td>\n",
       "      <td>...</td>\n",
       "      <td>0</td>\n",
       "      <td>0</td>\n",
       "      <td>0</td>\n",
       "      <td>0</td>\n",
       "      <td>0</td>\n",
       "      <td>0</td>\n",
       "      <td>0</td>\n",
       "      <td>0</td>\n",
       "      <td>0</td>\n",
       "      <td>16587</td>\n",
       "    </tr>\n",
       "    <tr>\n",
       "      <th>65 to 74 years</th>\n",
       "      <td>501</td>\n",
       "      <td>0</td>\n",
       "      <td>5</td>\n",
       "      <td>5</td>\n",
       "      <td>9</td>\n",
       "      <td>14</td>\n",
       "      <td>13</td>\n",
       "      <td>15</td>\n",
       "      <td>34</td>\n",
       "      <td>5</td>\n",
       "      <td>...</td>\n",
       "      <td>1</td>\n",
       "      <td>1</td>\n",
       "      <td>1</td>\n",
       "      <td>1</td>\n",
       "      <td>0</td>\n",
       "      <td>0</td>\n",
       "      <td>0</td>\n",
       "      <td>1</td>\n",
       "      <td>0</td>\n",
       "      <td>25251</td>\n",
       "    </tr>\n",
       "    <tr>\n",
       "      <th>75 years and over</th>\n",
       "      <td>167</td>\n",
       "      <td>0</td>\n",
       "      <td>2</td>\n",
       "      <td>2</td>\n",
       "      <td>6</td>\n",
       "      <td>3</td>\n",
       "      <td>6</td>\n",
       "      <td>10</td>\n",
       "      <td>8</td>\n",
       "      <td>1</td>\n",
       "      <td>...</td>\n",
       "      <td>0</td>\n",
       "      <td>0</td>\n",
       "      <td>0</td>\n",
       "      <td>0</td>\n",
       "      <td>0</td>\n",
       "      <td>0</td>\n",
       "      <td>0</td>\n",
       "      <td>0</td>\n",
       "      <td>0</td>\n",
       "      <td>12459</td>\n",
       "    </tr>\n",
       "    <tr>\n",
       "      <th>All</th>\n",
       "      <td>5689</td>\n",
       "      <td>9</td>\n",
       "      <td>27</td>\n",
       "      <td>29</td>\n",
       "      <td>46</td>\n",
       "      <td>57</td>\n",
       "      <td>95</td>\n",
       "      <td>144</td>\n",
       "      <td>258</td>\n",
       "      <td>41</td>\n",
       "      <td>...</td>\n",
       "      <td>1</td>\n",
       "      <td>1</td>\n",
       "      <td>1</td>\n",
       "      <td>1</td>\n",
       "      <td>1</td>\n",
       "      <td>1</td>\n",
       "      <td>1</td>\n",
       "      <td>1</td>\n",
       "      <td>1</td>\n",
       "      <td>355415</td>\n",
       "    </tr>\n",
       "  </tbody>\n",
       "</table>\n",
       "<p>11 rows × 13776 columns</p>\n",
       "</div>"
      ],
      "text/plain": [
       "Average Checkouts per Year   0.0  0.07142857142857142  0.07692307692307693  \\\n",
       "Age Range                                                                    \n",
       "0 to 9 years                  98                    0                    0   \n",
       "10 to 19 years               290                    0                    0   \n",
       "20 to 24 years               451                    0                    1   \n",
       "25 to 34 years              1727                    0                    3   \n",
       "35 to 44 years              1043                    2                    3   \n",
       "45 to 54 years               765                    3                    6   \n",
       "55 to 59 years               328                    1                    6   \n",
       "60 to 64 years               319                    3                    1   \n",
       "65 to 74 years               501                    0                    5   \n",
       "75 years and over            167                    0                    2   \n",
       "All                         5689                    9                   27   \n",
       "\n",
       "Average Checkouts per Year  0.08333333333333333  0.09090909090909091  0.1  \\\n",
       "Age Range                                                                   \n",
       "0 to 9 years                                  0                    0    0   \n",
       "10 to 19 years                                1                    0    3   \n",
       "20 to 24 years                                4                    0    2   \n",
       "25 to 34 years                                0                    5    7   \n",
       "35 to 44 years                                5                    6   11   \n",
       "45 to 54 years                                9                    9    8   \n",
       "55 to 59 years                                2                    5    5   \n",
       "60 to 64 years                                1                    6    4   \n",
       "65 to 74 years                                5                    9   14   \n",
       "75 years and over                             2                    6    3   \n",
       "All                                          29                   46   57   \n",
       "\n",
       "Average Checkouts per Year  0.1111111111111111  0.125  0.14285714285714285  \\\n",
       "Age Range                                                                    \n",
       "0 to 9 years                                 0      1                    3   \n",
       "10 to 19 years                               5      7                   24   \n",
       "20 to 24 years                               4      5                   11   \n",
       "25 to 34 years                              20     27                   51   \n",
       "35 to 44 years                              18     20                   42   \n",
       "45 to 54 years                              18     33                   42   \n",
       "55 to 59 years                               8     15                   20   \n",
       "60 to 64 years                               3     11                   23   \n",
       "65 to 74 years                              13     15                   34   \n",
       "75 years and over                            6     10                    8   \n",
       "All                                         95    144                  258   \n",
       "\n",
       "Average Checkouts per Year  0.15384615384615385  ...  1307.0  \\\n",
       "Age Range                                        ...           \n",
       "0 to 9 years                                  0  ...       0   \n",
       "10 to 19 years                                0  ...       0   \n",
       "20 to 24 years                                2  ...       0   \n",
       "25 to 34 years                                8  ...       0   \n",
       "35 to 44 years                                6  ...       0   \n",
       "45 to 54 years                                7  ...       0   \n",
       "55 to 59 years                                8  ...       0   \n",
       "60 to 64 years                                4  ...       0   \n",
       "65 to 74 years                                5  ...       1   \n",
       "75 years and over                             1  ...       0   \n",
       "All                                          41  ...       1   \n",
       "\n",
       "Average Checkouts per Year  1318.3636363636363  1437.75  1533.0833333333333  \\\n",
       "Age Range                                                                     \n",
       "0 to 9 years                                 0        0                   0   \n",
       "10 to 19 years                               0        0                   0   \n",
       "20 to 24 years                               0        0                   0   \n",
       "25 to 34 years                               0        0                   0   \n",
       "35 to 44 years                               0        0                   0   \n",
       "45 to 54 years                               0        0                   0   \n",
       "55 to 59 years                               0        0                   0   \n",
       "60 to 64 years                               0        0                   0   \n",
       "65 to 74 years                               1        1                   1   \n",
       "75 years and over                            0        0                   0   \n",
       "All                                          1        1                   1   \n",
       "\n",
       "Average Checkouts per Year  1544.142857142857  1720.9285714285713  1868.0  \\\n",
       "Age Range                                                                   \n",
       "0 to 9 years                                0                   0       0   \n",
       "10 to 19 years                              0                   0       0   \n",
       "20 to 24 years                              1                   0       0   \n",
       "25 to 34 years                              0                   0       1   \n",
       "35 to 44 years                              0                   0       0   \n",
       "45 to 54 years                              0                   1       0   \n",
       "55 to 59 years                              0                   0       0   \n",
       "60 to 64 years                              0                   0       0   \n",
       "65 to 74 years                              0                   0       0   \n",
       "75 years and over                           0                   0       0   \n",
       "All                                         1                   1       1   \n",
       "\n",
       "Average Checkouts per Year  2293.0  2564.785714285714     All  \n",
       "Age Range                                                      \n",
       "0 to 9 years                     0                  0   33830  \n",
       "10 to 19 years                   0                  0   51835  \n",
       "20 to 24 years                   0                  0   23960  \n",
       "25 to 34 years                   0                  0   72590  \n",
       "35 to 44 years                   0                  1   56438  \n",
       "45 to 54 years                   0                  0   44663  \n",
       "55 to 59 years                   0                  0   17802  \n",
       "60 to 64 years                   0                  0   16587  \n",
       "65 to 74 years                   1                  0   25251  \n",
       "75 years and over                0                  0   12459  \n",
       "All                              1                  1  355415  \n",
       "\n",
       "[11 rows x 13776 columns]"
      ]
     },
     "execution_count": 45,
     "metadata": {},
     "output_type": "execute_result"
    }
   ],
   "source": [
    "#Die Ergebnisse in einer Kreuztabelle anzeigen lassen:\n",
    "\n",
    "pd.crosstab(\n",
    "    df['Age Range'],\n",
    "    df['Average Checkouts per Year'], \n",
    "    margins=True\n",
    ")"
   ]
  },
  {
   "cell_type": "code",
   "execution_count": 55,
   "id": "732a071c",
   "metadata": {},
   "outputs": [
    {
     "data": {
      "text/plain": [
       "21.64835164835165"
      ]
     },
     "execution_count": 55,
     "metadata": {},
     "output_type": "execute_result"
    }
   ],
   "source": [
    "#Streuung berechnen (Interquartilsabstand):\n",
    "\n",
    "df['Average Checkouts per Year'].quantile(q=0.75) - df['Average Checkouts per Year'].quantile(q=0.25)"
   ]
  },
  {
   "cell_type": "code",
   "execution_count": 57,
   "id": "13d42268",
   "metadata": {},
   "outputs": [
    {
     "data": {
      "image/png": "[encoded data removed]",
      "text/plain": [
       "<Figure size 1152x432 with 1 Axes>"
      ]
     },
     "metadata": {},
     "output_type": "display_data"
    }
   ],
   "source": [
    "#Lösung aus Musterlösung:\n",
    "\n",
    "plt.figure(figsize=(16, 6))\n",
    "my_order =['0 to 9 years', '10 to 19 years', '20 to 24 years', '25 to 34 years', '35 to 44 years', '45 to 54 years', '55 to 59 years', '60 to 64 years', '65 to 74 years', '75 years and over']\n",
    "\n",
    "plt = sns.boxplot(y='Average Checkouts per Year', x='Age Range', data=df[df['Average Checkouts per Year']<df['Average Checkouts per Year'].quantile(0.95)], fliersize=0.5, whis=1.5, order =my_order)"
   ]
  },
  {
   "cell_type": "code",
   "execution_count": null,
   "id": "13bd42fb",
   "metadata": {},
   "outputs": [],
   "source": [
    "#Antwort Frage 3: Anhand des Balkendiagramms lässt sich erkennen, dass sich die Ausleihen in den einzelnen Altersgruppen nur wenig unterscheiden.\n",
    "#Lediglich in der Altersgruppe von 20-44 Jahren gibt es weniger Ausleihen als im Durchschnitt.\n",
    "#Auch der Interquartilsabstand von ca. 22% zeigt eine relativ geringe Streuung. "
   ]
  }
 ],
 "metadata": {
  "kernelspec": {
   "display_name": "Python 3 (ipykernel)",
   "language": "python",
   "name": "python3"
  },
  "language_info": {
   "codemirror_mode": {
    "name": "ipython",
    "version": 3
   },
   "file_extension": ".py",
   "mimetype": "text/x-python",
   "name": "python",
   "nbconvert_exporter": "python",
   "pygments_lexer": "ipython3",
   "version": "3.9.7"
  }
 },
 "nbformat": 4,
 "nbformat_minor": 5
}
